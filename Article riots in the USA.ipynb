{
 "cells": [
  {
   "cell_type": "code",
   "execution_count": 1,
   "metadata": {},
   "outputs": [],
   "source": [
    "import pandas as pd\n",
    "import numpy as np"
   ]
  },
  {
   "cell_type": "code",
   "execution_count": 15,
   "metadata": {},
   "outputs": [],
   "source": [
    "df = pd.read_excel('riots_inUSA.xlsx')"
   ]
  },
  {
   "cell_type": "code",
   "execution_count": 3,
   "metadata": {},
   "outputs": [
    {
     "data": {
      "text/html": [
       "<div>\n",
       "<style scoped>\n",
       "    .dataframe tbody tr th:only-of-type {\n",
       "        vertical-align: middle;\n",
       "    }\n",
       "\n",
       "    .dataframe tbody tr th {\n",
       "        vertical-align: top;\n",
       "    }\n",
       "\n",
       "    .dataframe thead th {\n",
       "        text-align: right;\n",
       "    }\n",
       "</style>\n",
       "<table border=\"1\" class=\"dataframe\">\n",
       "  <thead>\n",
       "    <tr style=\"text-align: right;\">\n",
       "      <th></th>\n",
       "      <th>county</th>\n",
       "      <th>State</th>\n",
       "      <th>number_protests</th>\n",
       "      <th>code_x</th>\n",
       "      <th>Unnamed: 0</th>\n",
       "      <th>code_y</th>\n",
       "      <th>percentage16_Donald_Trump</th>\n",
       "      <th>percentage16_Hillary_Clinton</th>\n",
       "      <th>total_votes16</th>\n",
       "      <th>votes16_Donald_Trump</th>\n",
       "      <th>...</th>\n",
       "      <th>FamilyWork</th>\n",
       "      <th>Unemployment</th>\n",
       "      <th>Black_binary</th>\n",
       "      <th>Rank</th>\n",
       "      <th>State,</th>\n",
       "      <th>Per_capita_Income</th>\n",
       "      <th>Median_household_income</th>\n",
       "      <th>Median_family_income</th>\n",
       "      <th>Population</th>\n",
       "      <th>Number of households</th>\n",
       "    </tr>\n",
       "  </thead>\n",
       "  <tbody>\n",
       "    <tr>\n",
       "      <th>0</th>\n",
       "      <td>NaN</td>\n",
       "      <td>Alaska</td>\n",
       "      <td>1</td>\n",
       "      <td>AK</td>\n",
       "      <td>NaN</td>\n",
       "      <td>NaN</td>\n",
       "      <td>NaN</td>\n",
       "      <td>NaN</td>\n",
       "      <td>NaN</td>\n",
       "      <td>NaN</td>\n",
       "      <td>...</td>\n",
       "      <td>NaN</td>\n",
       "      <td>NaN</td>\n",
       "      <td>NaN</td>\n",
       "      <td>NaN</td>\n",
       "      <td>NaN</td>\n",
       "      <td>NaN</td>\n",
       "      <td>NaN</td>\n",
       "      <td>NaN</td>\n",
       "      <td>NaN</td>\n",
       "      <td>NaN</td>\n",
       "    </tr>\n",
       "    <tr>\n",
       "      <th>1</th>\n",
       "      <td>NaN</td>\n",
       "      <td>Idaho</td>\n",
       "      <td>10</td>\n",
       "      <td>ID</td>\n",
       "      <td>NaN</td>\n",
       "      <td>NaN</td>\n",
       "      <td>NaN</td>\n",
       "      <td>NaN</td>\n",
       "      <td>NaN</td>\n",
       "      <td>NaN</td>\n",
       "      <td>...</td>\n",
       "      <td>NaN</td>\n",
       "      <td>NaN</td>\n",
       "      <td>NaN</td>\n",
       "      <td>NaN</td>\n",
       "      <td>NaN</td>\n",
       "      <td>NaN</td>\n",
       "      <td>NaN</td>\n",
       "      <td>NaN</td>\n",
       "      <td>NaN</td>\n",
       "      <td>NaN</td>\n",
       "    </tr>\n",
       "    <tr>\n",
       "      <th>2</th>\n",
       "      <td>NaN</td>\n",
       "      <td>Illinois</td>\n",
       "      <td>32</td>\n",
       "      <td>IL</td>\n",
       "      <td>NaN</td>\n",
       "      <td>NaN</td>\n",
       "      <td>NaN</td>\n",
       "      <td>NaN</td>\n",
       "      <td>NaN</td>\n",
       "      <td>NaN</td>\n",
       "      <td>...</td>\n",
       "      <td>NaN</td>\n",
       "      <td>NaN</td>\n",
       "      <td>NaN</td>\n",
       "      <td>NaN</td>\n",
       "      <td>NaN</td>\n",
       "      <td>NaN</td>\n",
       "      <td>NaN</td>\n",
       "      <td>NaN</td>\n",
       "      <td>NaN</td>\n",
       "      <td>NaN</td>\n",
       "    </tr>\n",
       "    <tr>\n",
       "      <th>3</th>\n",
       "      <td>NaN</td>\n",
       "      <td>Missouri</td>\n",
       "      <td>6</td>\n",
       "      <td>MO</td>\n",
       "      <td>NaN</td>\n",
       "      <td>NaN</td>\n",
       "      <td>NaN</td>\n",
       "      <td>NaN</td>\n",
       "      <td>NaN</td>\n",
       "      <td>NaN</td>\n",
       "      <td>...</td>\n",
       "      <td>NaN</td>\n",
       "      <td>NaN</td>\n",
       "      <td>NaN</td>\n",
       "      <td>NaN</td>\n",
       "      <td>NaN</td>\n",
       "      <td>NaN</td>\n",
       "      <td>NaN</td>\n",
       "      <td>NaN</td>\n",
       "      <td>NaN</td>\n",
       "      <td>NaN</td>\n",
       "    </tr>\n",
       "    <tr>\n",
       "      <th>4</th>\n",
       "      <td>NaN</td>\n",
       "      <td>Ohio</td>\n",
       "      <td>40</td>\n",
       "      <td>OH</td>\n",
       "      <td>NaN</td>\n",
       "      <td>NaN</td>\n",
       "      <td>NaN</td>\n",
       "      <td>NaN</td>\n",
       "      <td>NaN</td>\n",
       "      <td>NaN</td>\n",
       "      <td>...</td>\n",
       "      <td>NaN</td>\n",
       "      <td>NaN</td>\n",
       "      <td>NaN</td>\n",
       "      <td>NaN</td>\n",
       "      <td>NaN</td>\n",
       "      <td>NaN</td>\n",
       "      <td>NaN</td>\n",
       "      <td>NaN</td>\n",
       "      <td>NaN</td>\n",
       "      <td>NaN</td>\n",
       "    </tr>\n",
       "    <tr>\n",
       "      <th>...</th>\n",
       "      <td>...</td>\n",
       "      <td>...</td>\n",
       "      <td>...</td>\n",
       "      <td>...</td>\n",
       "      <td>...</td>\n",
       "      <td>...</td>\n",
       "      <td>...</td>\n",
       "      <td>...</td>\n",
       "      <td>...</td>\n",
       "      <td>...</td>\n",
       "      <td>...</td>\n",
       "      <td>...</td>\n",
       "      <td>...</td>\n",
       "      <td>...</td>\n",
       "      <td>...</td>\n",
       "      <td>...</td>\n",
       "      <td>...</td>\n",
       "      <td>...</td>\n",
       "      <td>...</td>\n",
       "      <td>...</td>\n",
       "      <td>...</td>\n",
       "    </tr>\n",
       "    <tr>\n",
       "      <th>7488</th>\n",
       "      <td>[ 62 ], Collier</td>\n",
       "      <td>Florida</td>\n",
       "      <td>7</td>\n",
       "      <td>FL</td>\n",
       "      <td>NaN</td>\n",
       "      <td>NaN</td>\n",
       "      <td>NaN</td>\n",
       "      <td>NaN</td>\n",
       "      <td>NaN</td>\n",
       "      <td>NaN</td>\n",
       "      <td>...</td>\n",
       "      <td>NaN</td>\n",
       "      <td>NaN</td>\n",
       "      <td>NaN</td>\n",
       "      <td>NaN</td>\n",
       "      <td>NaN</td>\n",
       "      <td>NaN</td>\n",
       "      <td>NaN</td>\n",
       "      <td>NaN</td>\n",
       "      <td>NaN</td>\n",
       "      <td>NaN</td>\n",
       "    </tr>\n",
       "    <tr>\n",
       "      <th>7489</th>\n",
       "      <td>[ 63 ], Collier</td>\n",
       "      <td>Florida</td>\n",
       "      <td>6</td>\n",
       "      <td>FL</td>\n",
       "      <td>NaN</td>\n",
       "      <td>NaN</td>\n",
       "      <td>NaN</td>\n",
       "      <td>NaN</td>\n",
       "      <td>NaN</td>\n",
       "      <td>NaN</td>\n",
       "      <td>...</td>\n",
       "      <td>NaN</td>\n",
       "      <td>NaN</td>\n",
       "      <td>NaN</td>\n",
       "      <td>NaN</td>\n",
       "      <td>NaN</td>\n",
       "      <td>NaN</td>\n",
       "      <td>NaN</td>\n",
       "      <td>NaN</td>\n",
       "      <td>NaN</td>\n",
       "      <td>NaN</td>\n",
       "    </tr>\n",
       "    <tr>\n",
       "      <th>7490</th>\n",
       "      <td>[ 71 ], Lee</td>\n",
       "      <td>Florida</td>\n",
       "      <td>2</td>\n",
       "      <td>FL</td>\n",
       "      <td>NaN</td>\n",
       "      <td>NaN</td>\n",
       "      <td>NaN</td>\n",
       "      <td>NaN</td>\n",
       "      <td>NaN</td>\n",
       "      <td>NaN</td>\n",
       "      <td>...</td>\n",
       "      <td>NaN</td>\n",
       "      <td>NaN</td>\n",
       "      <td>NaN</td>\n",
       "      <td>NaN</td>\n",
       "      <td>NaN</td>\n",
       "      <td>NaN</td>\n",
       "      <td>NaN</td>\n",
       "      <td>NaN</td>\n",
       "      <td>NaN</td>\n",
       "      <td>NaN</td>\n",
       "    </tr>\n",
       "    <tr>\n",
       "      <th>7491</th>\n",
       "      <td>[ 72 ], Lee</td>\n",
       "      <td>Florida</td>\n",
       "      <td>1</td>\n",
       "      <td>FL</td>\n",
       "      <td>NaN</td>\n",
       "      <td>NaN</td>\n",
       "      <td>NaN</td>\n",
       "      <td>NaN</td>\n",
       "      <td>NaN</td>\n",
       "      <td>NaN</td>\n",
       "      <td>...</td>\n",
       "      <td>NaN</td>\n",
       "      <td>NaN</td>\n",
       "      <td>NaN</td>\n",
       "      <td>NaN</td>\n",
       "      <td>NaN</td>\n",
       "      <td>NaN</td>\n",
       "      <td>NaN</td>\n",
       "      <td>NaN</td>\n",
       "      <td>NaN</td>\n",
       "      <td>NaN</td>\n",
       "    </tr>\n",
       "    <tr>\n",
       "      <th>7492</th>\n",
       "      <td>a statue of Christopher Columbus in San Franci...</td>\n",
       "      <td>California</td>\n",
       "      <td>123</td>\n",
       "      <td>CA</td>\n",
       "      <td>NaN</td>\n",
       "      <td>NaN</td>\n",
       "      <td>NaN</td>\n",
       "      <td>NaN</td>\n",
       "      <td>NaN</td>\n",
       "      <td>NaN</td>\n",
       "      <td>...</td>\n",
       "      <td>NaN</td>\n",
       "      <td>NaN</td>\n",
       "      <td>NaN</td>\n",
       "      <td>NaN</td>\n",
       "      <td>NaN</td>\n",
       "      <td>NaN</td>\n",
       "      <td>NaN</td>\n",
       "      <td>NaN</td>\n",
       "      <td>NaN</td>\n",
       "      <td>NaN</td>\n",
       "    </tr>\n",
       "  </tbody>\n",
       "</table>\n",
       "<p>7493 rows × 62 columns</p>\n",
       "</div>"
      ],
      "text/plain": [
       "                                                 county       State  \\\n",
       "0                                                   NaN      Alaska   \n",
       "1                                                   NaN       Idaho   \n",
       "2                                                   NaN    Illinois   \n",
       "3                                                   NaN    Missouri   \n",
       "4                                                   NaN        Ohio   \n",
       "...                                                 ...         ...   \n",
       "7488                                    [ 62 ], Collier     Florida   \n",
       "7489                                    [ 63 ], Collier     Florida   \n",
       "7490                                        [ 71 ], Lee     Florida   \n",
       "7491                                        [ 72 ], Lee     Florida   \n",
       "7492  a statue of Christopher Columbus in San Franci...  California   \n",
       "\n",
       "      number_protests code_x  Unnamed: 0 code_y  percentage16_Donald_Trump  \\\n",
       "0                   1     AK         NaN    NaN                        NaN   \n",
       "1                  10     ID         NaN    NaN                        NaN   \n",
       "2                  32     IL         NaN    NaN                        NaN   \n",
       "3                   6     MO         NaN    NaN                        NaN   \n",
       "4                  40     OH         NaN    NaN                        NaN   \n",
       "...               ...    ...         ...    ...                        ...   \n",
       "7488                7     FL         NaN    NaN                        NaN   \n",
       "7489                6     FL         NaN    NaN                        NaN   \n",
       "7490                2     FL         NaN    NaN                        NaN   \n",
       "7491                1     FL         NaN    NaN                        NaN   \n",
       "7492              123     CA         NaN    NaN                        NaN   \n",
       "\n",
       "      percentage16_Hillary_Clinton  total_votes16  votes16_Donald_Trump  ...  \\\n",
       "0                              NaN            NaN                   NaN  ...   \n",
       "1                              NaN            NaN                   NaN  ...   \n",
       "2                              NaN            NaN                   NaN  ...   \n",
       "3                              NaN            NaN                   NaN  ...   \n",
       "4                              NaN            NaN                   NaN  ...   \n",
       "...                            ...            ...                   ...  ...   \n",
       "7488                           NaN            NaN                   NaN  ...   \n",
       "7489                           NaN            NaN                   NaN  ...   \n",
       "7490                           NaN            NaN                   NaN  ...   \n",
       "7491                           NaN            NaN                   NaN  ...   \n",
       "7492                           NaN            NaN                   NaN  ...   \n",
       "\n",
       "      FamilyWork  Unemployment  Black_binary  Rank  State,  Per_capita_Income  \\\n",
       "0            NaN           NaN           NaN   NaN     NaN                NaN   \n",
       "1            NaN           NaN           NaN   NaN     NaN                NaN   \n",
       "2            NaN           NaN           NaN   NaN     NaN                NaN   \n",
       "3            NaN           NaN           NaN   NaN     NaN                NaN   \n",
       "4            NaN           NaN           NaN   NaN     NaN                NaN   \n",
       "...          ...           ...           ...   ...     ...                ...   \n",
       "7488         NaN           NaN           NaN   NaN     NaN                NaN   \n",
       "7489         NaN           NaN           NaN   NaN     NaN                NaN   \n",
       "7490         NaN           NaN           NaN   NaN     NaN                NaN   \n",
       "7491         NaN           NaN           NaN   NaN     NaN                NaN   \n",
       "7492         NaN           NaN           NaN   NaN     NaN                NaN   \n",
       "\n",
       "      Median_household_income  Median_family_income  Population  \\\n",
       "0                         NaN                   NaN         NaN   \n",
       "1                         NaN                   NaN         NaN   \n",
       "2                         NaN                   NaN         NaN   \n",
       "3                         NaN                   NaN         NaN   \n",
       "4                         NaN                   NaN         NaN   \n",
       "...                       ...                   ...         ...   \n",
       "7488                      NaN                   NaN         NaN   \n",
       "7489                      NaN                   NaN         NaN   \n",
       "7490                      NaN                   NaN         NaN   \n",
       "7491                      NaN                   NaN         NaN   \n",
       "7492                      NaN                   NaN         NaN   \n",
       "\n",
       "      Number of households  \n",
       "0                      NaN  \n",
       "1                      NaN  \n",
       "2                      NaN  \n",
       "3                      NaN  \n",
       "4                      NaN  \n",
       "...                    ...  \n",
       "7488                   NaN  \n",
       "7489                   NaN  \n",
       "7490                   NaN  \n",
       "7491                   NaN  \n",
       "7492                   NaN  \n",
       "\n",
       "[7493 rows x 62 columns]"
      ]
     },
     "execution_count": 3,
     "metadata": {},
     "output_type": "execute_result"
    }
   ],
   "source": [
    "df"
   ]
  },
  {
   "cell_type": "markdown",
   "metadata": {},
   "source": [
    "## Vizualization"
   ]
  },
  {
   "cell_type": "code",
   "execution_count": 4,
   "metadata": {},
   "outputs": [],
   "source": [
    "import matplotlib.pyplot as plt\n",
    "import seaborn as sns"
   ]
  },
  {
   "cell_type": "code",
   "execution_count": 5,
   "metadata": {},
   "outputs": [],
   "source": [
    "df_new = df\n",
    "df_new.rename(columns={'Black': 'Процент',\n",
    "                           'number_protests': 'Количество',\n",
    "                           'TotalPop': 'Население'}, inplace=True)"
   ]
  },
  {
   "cell_type": "code",
   "execution_count": 14,
   "metadata": {},
   "outputs": [
    {
     "data": {
      "text/plain": [
       "Index(['county', 'State', 'Количество', 'code_x', 'Unnamed: 0', 'code_y',\n",
       "       'percentage16_Donald_Trump', 'percentage16_Hillary_Clinton',\n",
       "       'total_votes16', 'votes16_Donald_Trump', 'votes16_Hillary_Clinton',\n",
       "       'percentage20_Donald_Trump', 'percentage20_Joe_Biden', 'total_votes20',\n",
       "       'votes20_Donald_Trump', 'votes20_Joe_Biden', 'lat', 'long', 'cases',\n",
       "       'deaths', 'Население', 'Men', 'Women', 'Hispanic', 'White', 'Процент',\n",
       "       'Native', 'Asian', 'Pacific', 'VotingAgeCitizen', 'Income', 'IncomeErr',\n",
       "       'IncomePerCap', 'IncomePerCapErr', 'Poverty', 'ChildPoverty',\n",
       "       'Professional', 'Service', 'Office', 'Construction', 'Production',\n",
       "       'Drive', 'Carpool', 'Transit', 'Walk', 'OtherTransp', 'WorkAtHome',\n",
       "       'MeanCommute', 'Employed', 'PrivateWork', 'PublicWork', 'SelfEmployed',\n",
       "       'FamilyWork', 'Unemployment', 'Black_binary', 'Rank', 'State,',\n",
       "       'Per_capita_Income', 'Median_household_income', 'Median_family_income',\n",
       "       'Population', 'Number of households'],\n",
       "      dtype='object')"
      ]
     },
     "execution_count": 14,
     "metadata": {},
     "output_type": "execute_result"
    }
   ],
   "source": [
    "df_new.columns"
   ]
  },
  {
   "cell_type": "code",
   "execution_count": 6,
   "metadata": {},
   "outputs": [
    {
     "data": {
      "image/png": "[encoded data removed]",
      "text/plain": [
       "<Figure size 1008x720 with 1 Axes>"
      ]
     },
     "metadata": {
      "needs_background": "light"
     },
     "output_type": "display_data"
    }
   ],
   "source": [
    "plt.figure(figsize = (14,10))                                                  #size = \"total_votes20\"\n",
    "sns.scatterplot(data = df_new, x = \"long\", y = \"lat\", hue = \"Процент\", size = \"Население\", sizes = (20, 200),\n",
    "                size_norm = (10000, 800000), palette = \"magma_r\")\n",
    "plt.title(\"Процент чернокожего населения (в %)\", fontsize=15)\n",
    "plt.show()"
   ]
  },
  {
   "cell_type": "code",
   "execution_count": 7,
   "metadata": {},
   "outputs": [
    {
     "data": {
      "image/png": "[encoded data removed]",
      "text/plain": [
       "<Figure size 1008x720 with 1 Axes>"
      ]
     },
     "metadata": {
      "needs_background": "light"
     },
     "output_type": "display_data"
    }
   ],
   "source": [
    "plt.figure(figsize = (14,10))                                                 \n",
    "sns.scatterplot(data = df_new, x = \"long\", y = \"lat\", hue = \"Количество\", size = \"Население\", sizes = (20, 200),\n",
    "                size_norm = (10000, 800000), palette = \"magma_r\")\n",
    "plt.title(\"Количество протестов\", fontsize=15)\n",
    "plt.show()"
   ]
  },
  {
   "cell_type": "markdown",
   "metadata": {},
   "source": [
    "## OLS Regression"
   ]
  },
  {
   "cell_type": "code",
   "execution_count": 9,
   "metadata": {},
   "outputs": [],
   "source": [
    "import os\n",
    "import statsmodels.formula.api as statf \n",
    "import statsmodels.api as smo "
   ]
  },
  {
   "cell_type": "code",
   "execution_count": 17,
   "metadata": {},
   "outputs": [
    {
     "data": {
      "text/plain": [
       "Index(['county', 'State', 'number_protests', 'code_x', 'Unnamed: 0', 'code_y',\n",
       "       'percentage16_Donald_Trump', 'percentage16_Hillary_Clinton',\n",
       "       'total_votes16', 'votes16_Donald_Trump', 'votes16_Hillary_Clinton',\n",
       "       'percentage20_Donald_Trump', 'percentage20_Joe_Biden', 'total_votes20',\n",
       "       'votes20_Donald_Trump', 'votes20_Joe_Biden', 'lat', 'long', 'cases',\n",
       "       'deaths', 'TotalPop', 'Men', 'Women', 'Hispanic', 'White', 'Black',\n",
       "       'Native', 'Asian', 'Pacific', 'VotingAgeCitizen', 'Income', 'IncomeErr',\n",
       "       'IncomePerCap', 'IncomePerCapErr', 'Poverty', 'ChildPoverty',\n",
       "       'Professional', 'Service', 'Office', 'Construction', 'Production',\n",
       "       'Drive', 'Carpool', 'Transit', 'Walk', 'OtherTransp', 'WorkAtHome',\n",
       "       'MeanCommute', 'Employed', 'PrivateWork', 'PublicWork', 'SelfEmployed',\n",
       "       'FamilyWork', 'Unemployment', 'Black_binary', 'Rank', 'State,',\n",
       "       'Per_capita_Income', 'Median_household_income', 'Median_family_income',\n",
       "       'Population', 'Number of households'],\n",
       "      dtype='object')"
      ]
     },
     "execution_count": 17,
     "metadata": {},
     "output_type": "execute_result"
    }
   ],
   "source": [
    "df.columns"
   ]
  },
  {
   "cell_type": "code",
   "execution_count": 18,
   "metadata": {},
   "outputs": [],
   "source": [
    "df['Population'] = pd.to_numeric(df['Population'], errors='coerce')\n",
    "df['votes16_Donald_Trump_perc'] = df['votes16_Donald_Trump'] / df['TotalPop'] "
   ]
  },
  {
   "cell_type": "code",
   "execution_count": 20,
   "metadata": {},
   "outputs": [
    {
     "name": "stdout",
     "output_type": "stream",
     "text": [
      "                            OLS Regression Results                            \n",
      "==============================================================================\n",
      "Dep. Variable:        number_protests   R-squared:                       0.000\n",
      "Model:                            OLS   Adj. R-squared:                 -0.000\n",
      "Method:                 Least Squares   F-statistic:                   0.01919\n",
      "Date:                Tue, 01 Nov 2022   Prob (F-statistic):              0.890\n",
      "Time:                        23:42:54   Log-Likelihood:                -22234.\n",
      "No. Observations:                6367   AIC:                         4.447e+04\n",
      "Df Residuals:                    6365   BIC:                         4.449e+04\n",
      "Df Model:                           1                                         \n",
      "Covariance Type:            nonrobust                                         \n",
      "===========================================================================================\n",
      "                              coef    std err          t      P>|t|      [0.025      0.975]\n",
      "-------------------------------------------------------------------------------------------\n",
      "Intercept                  10.4360      0.439     23.792      0.000       9.576      11.296\n",
      "Median_household_income    -0.0013      0.010     -0.139      0.890      -0.020       0.018\n",
      "==============================================================================\n",
      "Omnibus:                     2901.971   Durbin-Watson:                   0.076\n",
      "Prob(Omnibus):                  0.000   Jarque-Bera (JB):            14208.096\n",
      "Skew:                           2.218   Prob(JB):                         0.00\n",
      "Kurtosis:                       8.821   Cond. No.                         199.\n",
      "==============================================================================\n",
      "\n",
      "Warnings:\n",
      "[1] Standard Errors assume that the covariance matrix of the errors is correctly specified.\n"
     ]
    }
   ],
   "source": [
    "model1 = smo.OLS.from_formula('number_protests ~ Median_household_income', \n",
    "                                                      data = df)\n",
    "results1 = model1.fit()\n",
    "print(results1.summary())"
   ]
  },
  {
   "cell_type": "code",
   "execution_count": 21,
   "metadata": {},
   "outputs": [
    {
     "name": "stdout",
     "output_type": "stream",
     "text": [
      "                            OLS Regression Results                            \n",
      "==============================================================================\n",
      "Dep. Variable:        number_protests   R-squared:                       0.003\n",
      "Model:                            OLS   Adj. R-squared:                  0.002\n",
      "Method:                 Least Squares   F-statistic:                     8.454\n",
      "Date:                Tue, 01 Nov 2022   Prob (F-statistic):           0.000215\n",
      "Time:                        23:48:14   Log-Likelihood:                -22117.\n",
      "No. Observations:                6340   AIC:                         4.424e+04\n",
      "Df Residuals:                    6337   BIC:                         4.426e+04\n",
      "Df Model:                           2                                         \n",
      "Covariance Type:            nonrobust                                         \n",
      "===========================================================================================\n",
      "                              coef    std err          t      P>|t|      [0.025      0.975]\n",
      "-------------------------------------------------------------------------------------------\n",
      "Intercept                  10.9808      0.454     24.178      0.000      10.090      11.871\n",
      "Median_household_income    -0.0192      0.010     -1.831      0.067      -0.040       0.001\n",
      "Population                  0.0028      0.001      4.103      0.000       0.001       0.004\n",
      "==============================================================================\n",
      "Omnibus:                     2882.996   Durbin-Watson:                   0.082\n",
      "Prob(Omnibus):                  0.000   Jarque-Bera (JB):            14235.690\n",
      "Skew:                           2.207   Prob(JB):                         0.00\n",
      "Kurtosis:                       8.866   Cond. No.                         833.\n",
      "==============================================================================\n",
      "\n",
      "Warnings:\n",
      "[1] Standard Errors assume that the covariance matrix of the errors is correctly specified.\n"
     ]
    }
   ],
   "source": [
    "model2 = smo.OLS.from_formula('number_protests ~ Median_household_income + Population', \n",
    "                                                      data = df)\n",
    "results2 = model2.fit()\n",
    "print(results2.summary())"
   ]
  },
  {
   "cell_type": "code",
   "execution_count": 25,
   "metadata": {},
   "outputs": [
    {
     "name": "stdout",
     "output_type": "stream",
     "text": [
      "                            OLS Regression Results                            \n",
      "==============================================================================\n",
      "Dep. Variable:        number_protests   R-squared:                       0.011\n",
      "Model:                            OLS   Adj. R-squared:                  0.011\n",
      "Method:                 Least Squares   F-statistic:                     21.15\n",
      "Date:                Tue, 01 Nov 2022   Prob (F-statistic):           1.29e-13\n",
      "Time:                        23:51:14   Log-Likelihood:                -19153.\n",
      "No. Observations:                5536   AIC:                         3.831e+04\n",
      "Df Residuals:                    5532   BIC:                         3.834e+04\n",
      "Df Model:                           3                                         \n",
      "Covariance Type:            nonrobust                                         \n",
      "===========================================================================================\n",
      "                              coef    std err          t      P>|t|      [0.025      0.975]\n",
      "-------------------------------------------------------------------------------------------\n",
      "Intercept                  12.9858      0.574     22.642      0.000      11.861      14.110\n",
      "Median_household_income    -0.0265      0.011     -2.352      0.019      -0.049      -0.004\n",
      "Population                  0.0030      0.001      4.349      0.000       0.002       0.004\n",
      "Poverty                    -0.1043      0.015     -6.783      0.000      -0.134      -0.074\n",
      "==============================================================================\n",
      "Omnibus:                     2206.632   Durbin-Watson:                   0.099\n",
      "Prob(Omnibus):                  0.000   Jarque-Bera (JB):             8119.991\n",
      "Skew:                           2.021   Prob(JB):                         0.00\n",
      "Kurtosis:                       7.343   Cond. No.                     1.01e+03\n",
      "==============================================================================\n",
      "\n",
      "Warnings:\n",
      "[1] Standard Errors assume that the covariance matrix of the errors is correctly specified.\n",
      "[2] The condition number is large, 1.01e+03. This might indicate that there are\n",
      "strong multicollinearity or other numerical problems.\n"
     ]
    }
   ],
   "source": [
    "model3 = smo.OLS.from_formula('number_protests ~ Median_household_income + Population + Poverty', \n",
    "                                                      data = df)\n",
    "results3 = model3.fit()\n",
    "print(results3.summary())"
   ]
  },
  {
   "cell_type": "code",
   "execution_count": 26,
   "metadata": {},
   "outputs": [
    {
     "name": "stdout",
     "output_type": "stream",
     "text": [
      "                            OLS Regression Results                            \n",
      "==============================================================================\n",
      "Dep. Variable:        number_protests   R-squared:                       0.017\n",
      "Model:                            OLS   Adj. R-squared:                  0.016\n",
      "Method:                 Least Squares   F-statistic:                     23.55\n",
      "Date:                Tue, 01 Nov 2022   Prob (F-statistic):           2.47e-19\n",
      "Time:                        23:53:24   Log-Likelihood:                -19137.\n",
      "No. Observations:                5536   AIC:                         3.828e+04\n",
      "Df Residuals:                    5531   BIC:                         3.832e+04\n",
      "Df Model:                           4                                         \n",
      "Covariance Type:            nonrobust                                         \n",
      "===========================================================================================\n",
      "                              coef    std err          t      P>|t|      [0.025      0.975]\n",
      "-------------------------------------------------------------------------------------------\n",
      "Intercept                  13.2698      0.574     23.105      0.000      12.144      14.396\n",
      "Median_household_income    -0.0282      0.011     -2.510      0.012      -0.050      -0.006\n",
      "Population                  0.0029      0.001      4.215      0.000       0.002       0.004\n",
      "Poverty                    -0.1417      0.017     -8.449      0.000      -0.175      -0.109\n",
      "Black                       0.0457      0.008      5.515      0.000       0.029       0.062\n",
      "==============================================================================\n",
      "Omnibus:                     2193.885   Durbin-Watson:                   0.099\n",
      "Prob(Omnibus):                  0.000   Jarque-Bera (JB):             8076.204\n",
      "Skew:                           2.007   Prob(JB):                         0.00\n",
      "Kurtosis:                       7.347   Cond. No.                     1.01e+03\n",
      "==============================================================================\n",
      "\n",
      "Warnings:\n",
      "[1] Standard Errors assume that the covariance matrix of the errors is correctly specified.\n",
      "[2] The condition number is large, 1.01e+03. This might indicate that there are\n",
      "strong multicollinearity or other numerical problems.\n"
     ]
    }
   ],
   "source": [
    "model4 = smo.OLS.from_formula('number_protests ~ Median_household_income + Population + Poverty + Black', \n",
    "                                                      data = df)\n",
    "results4 = model4.fit()\n",
    "print(results4.summary())"
   ]
  },
  {
   "cell_type": "code",
   "execution_count": 27,
   "metadata": {},
   "outputs": [
    {
     "name": "stdout",
     "output_type": "stream",
     "text": [
      "                            OLS Regression Results                            \n",
      "==============================================================================\n",
      "Dep. Variable:        number_protests   R-squared:                       0.020\n",
      "Model:                            OLS   Adj. R-squared:                  0.019\n",
      "Method:                 Least Squares   F-statistic:                     22.31\n",
      "Date:                Tue, 01 Nov 2022   Prob (F-statistic):           3.23e-22\n",
      "Time:                        23:59:26   Log-Likelihood:                -19129.\n",
      "No. Observations:                5536   AIC:                         3.827e+04\n",
      "Df Residuals:                    5530   BIC:                         3.831e+04\n",
      "Df Model:                           5                                         \n",
      "Covariance Type:            nonrobust                                         \n",
      "===========================================================================================\n",
      "                              coef    std err          t      P>|t|      [0.025      0.975]\n",
      "-------------------------------------------------------------------------------------------\n",
      "Intercept                  12.6336      0.594     21.277      0.000      11.470      13.798\n",
      "Median_household_income    -0.0274      0.011     -2.441      0.015      -0.049      -0.005\n",
      "Population                  0.0029      0.001      4.158      0.000       0.002       0.004\n",
      "Poverty                    -0.1905      0.020     -9.297      0.000      -0.231      -0.150\n",
      "Black                       0.0362      0.009      4.219      0.000       0.019       0.053\n",
      "Unemployment                0.2317      0.056      4.135      0.000       0.122       0.342\n",
      "==============================================================================\n",
      "Omnibus:                     2205.840   Durbin-Watson:                   0.100\n",
      "Prob(Omnibus):                  0.000   Jarque-Bera (JB):             8187.383\n",
      "Skew:                           2.016   Prob(JB):                         0.00\n",
      "Kurtosis:                       7.387   Cond. No.                     1.05e+03\n",
      "==============================================================================\n",
      "\n",
      "Warnings:\n",
      "[1] Standard Errors assume that the covariance matrix of the errors is correctly specified.\n",
      "[2] The condition number is large, 1.05e+03. This might indicate that there are\n",
      "strong multicollinearity or other numerical problems.\n"
     ]
    }
   ],
   "source": [
    "model5 = smo.OLS.from_formula('number_protests ~ Median_household_income + Population + Poverty + Black+ Unemployment', \n",
    "                                                      data = df)\n",
    "results5 = model5.fit()\n",
    "print(results5.summary())"
   ]
  },
  {
   "cell_type": "code",
   "execution_count": 28,
   "metadata": {},
   "outputs": [
    {
     "name": "stdout",
     "output_type": "stream",
     "text": [
      "                            OLS Regression Results                            \n",
      "==============================================================================\n",
      "Dep. Variable:        number_protests   R-squared:                       0.023\n",
      "Model:                            OLS   Adj. R-squared:                  0.022\n",
      "Method:                 Least Squares   F-statistic:                     21.97\n",
      "Date:                Wed, 02 Nov 2022   Prob (F-statistic):           1.10e-25\n",
      "Time:                        00:01:46   Log-Likelihood:                -19119.\n",
      "No. Observations:                5536   AIC:                         3.825e+04\n",
      "Df Residuals:                    5529   BIC:                         3.830e+04\n",
      "Df Model:                           6                                         \n",
      "Covariance Type:            nonrobust                                         \n",
      "===========================================================================================\n",
      "                              coef    std err          t      P>|t|      [0.025      0.975]\n",
      "-------------------------------------------------------------------------------------------\n",
      "Intercept                  12.3535      0.596     20.724      0.000      11.185      13.522\n",
      "Median_household_income    -0.0263      0.011     -2.346      0.019      -0.048      -0.004\n",
      "Population                  0.0026      0.001      3.705      0.000       0.001       0.004\n",
      "Poverty                    -0.1759      0.021     -8.487      0.000      -0.217      -0.135\n",
      "Black                       0.0267      0.009      3.024      0.003       0.009       0.044\n",
      "Unemployment                0.2146      0.056      3.827      0.000       0.105       0.325\n",
      "cases                    9.428e-05   2.11e-05      4.459      0.000    5.28e-05       0.000\n",
      "==============================================================================\n",
      "Omnibus:                     2176.432   Durbin-Watson:                   0.100\n",
      "Prob(Omnibus):                  0.000   Jarque-Bera (JB):             7994.455\n",
      "Skew:                           1.989   Prob(JB):                         0.00\n",
      "Kurtosis:                       7.339   Cond. No.                     3.22e+04\n",
      "==============================================================================\n",
      "\n",
      "Warnings:\n",
      "[1] Standard Errors assume that the covariance matrix of the errors is correctly specified.\n",
      "[2] The condition number is large, 3.22e+04. This might indicate that there are\n",
      "strong multicollinearity or other numerical problems.\n"
     ]
    }
   ],
   "source": [
    "model6 = smo.OLS.from_formula('number_protests ~ Median_household_income + Population + Poverty + Black+ Unemployment + cases', \n",
    "                                                      data = df)\n",
    "results6 = model6.fit()\n",
    "print(results6.summary())"
   ]
  },
  {
   "cell_type": "code",
   "execution_count": 30,
   "metadata": {},
   "outputs": [
    {
     "name": "stdout",
     "output_type": "stream",
     "text": [
      "                            OLS Regression Results                            \n",
      "==============================================================================\n",
      "Dep. Variable:        number_protests   R-squared:                       0.029\n",
      "Model:                            OLS   Adj. R-squared:                  0.027\n",
      "Method:                 Least Squares   F-statistic:                     23.19\n",
      "Date:                Wed, 02 Nov 2022   Prob (F-statistic):           3.07e-31\n",
      "Time:                        00:07:34   Log-Likelihood:                -19104.\n",
      "No. Observations:                5536   AIC:                         3.822e+04\n",
      "Df Residuals:                    5528   BIC:                         3.828e+04\n",
      "Df Model:                           7                                         \n",
      "Covariance Type:            nonrobust                                         \n",
      "===========================================================================================\n",
      "                              coef    std err          t      P>|t|      [0.025      0.975]\n",
      "-------------------------------------------------------------------------------------------\n",
      "Intercept                  12.1537      0.596     20.404      0.000      10.986      13.321\n",
      "Median_household_income    -0.0256      0.011     -2.286      0.022      -0.047      -0.004\n",
      "Population                  0.0025      0.001      3.661      0.000       0.001       0.004\n",
      "Poverty                    -0.1818      0.021     -8.784      0.000      -0.222      -0.141\n",
      "Black                       0.0269      0.009      3.050      0.002       0.010       0.044\n",
      "Unemployment                0.2451      0.056      4.361      0.000       0.135       0.355\n",
      "cases                       0.0002   3.37e-05      7.058      0.000       0.000       0.000\n",
      "deaths                     -0.0046      0.001     -5.462      0.000      -0.006      -0.003\n",
      "==============================================================================\n",
      "Omnibus:                     2164.957   Durbin-Watson:                   0.101\n",
      "Prob(Omnibus):                  0.000   Jarque-Bera (JB):             7954.355\n",
      "Skew:                           1.977   Prob(JB):                         0.00\n",
      "Kurtosis:                       7.342   Cond. No.                     3.23e+04\n",
      "==============================================================================\n",
      "\n",
      "Warnings:\n",
      "[1] Standard Errors assume that the covariance matrix of the errors is correctly specified.\n",
      "[2] The condition number is large, 3.23e+04. This might indicate that there are\n",
      "strong multicollinearity or other numerical problems.\n"
     ]
    }
   ],
   "source": [
    "model7 = smo.OLS.from_formula('number_protests ~ Median_household_income + Population + Poverty \\\n",
    "                            + Black+ Unemployment + cases  + deaths', \n",
    "                                                      data = df)\n",
    "results7 = model7.fit()\n",
    "print(results7.summary())"
   ]
  },
  {
   "cell_type": "code",
   "execution_count": 31,
   "metadata": {},
   "outputs": [
    {
     "name": "stdout",
     "output_type": "stream",
     "text": [
      "                            OLS Regression Results                            \n",
      "==============================================================================\n",
      "Dep. Variable:        number_protests   R-squared:                       0.029\n",
      "Model:                            OLS   Adj. R-squared:                  0.027\n",
      "Method:                 Least Squares   F-statistic:                     20.32\n",
      "Date:                Wed, 02 Nov 2022   Prob (F-statistic):           1.38e-30\n",
      "Time:                        00:10:00   Log-Likelihood:                -19104.\n",
      "No. Observations:                5536   AIC:                         3.823e+04\n",
      "Df Residuals:                    5527   BIC:                         3.829e+04\n",
      "Df Model:                           8                                         \n",
      "Covariance Type:            nonrobust                                         \n",
      "===========================================================================================\n",
      "                              coef    std err          t      P>|t|      [0.025      0.975]\n",
      "-------------------------------------------------------------------------------------------\n",
      "Intercept                  12.2240      0.613     19.939      0.000      11.022      13.426\n",
      "Median_household_income    -0.0255      0.011     -2.284      0.022      -0.047      -0.004\n",
      "Population                  0.0025      0.001      3.668      0.000       0.001       0.004\n",
      "Poverty                    -0.1818      0.021     -8.784      0.000      -0.222      -0.141\n",
      "Black                       0.0267      0.009      3.034      0.002       0.009       0.044\n",
      "Unemployment                0.2401      0.057      4.199      0.000       0.128       0.352\n",
      "cases                       0.0002   3.46e-05      6.985      0.000       0.000       0.000\n",
      "deaths                     -0.0047      0.001     -5.484      0.000      -0.006      -0.003\n",
      "Hispanic                   -0.0073      0.015     -0.486      0.627      -0.037       0.022\n",
      "==============================================================================\n",
      "Omnibus:                     2164.375   Durbin-Watson:                   0.101\n",
      "Prob(Omnibus):                  0.000   Jarque-Bera (JB):             7947.509\n",
      "Skew:                           1.976   Prob(JB):                         0.00\n",
      "Kurtosis:                       7.339   Cond. No.                     3.33e+04\n",
      "==============================================================================\n",
      "\n",
      "Warnings:\n",
      "[1] Standard Errors assume that the covariance matrix of the errors is correctly specified.\n",
      "[2] The condition number is large, 3.33e+04. This might indicate that there are\n",
      "strong multicollinearity or other numerical problems.\n"
     ]
    }
   ],
   "source": [
    "model8 = smo.OLS.from_formula('number_protests ~ Median_household_income + Population + Poverty \\\n",
    "                            + Black+ Unemployment + cases  + deaths + Hispanic', \n",
    "                                                      data = df)\n",
    "results8 = model8.fit()\n",
    "print(results8.summary())"
   ]
  },
  {
   "cell_type": "code",
   "execution_count": 52,
   "metadata": {},
   "outputs": [
    {
     "name": "stdout",
     "output_type": "stream",
     "text": [
      "                            OLS Regression Results                            \n",
      "==============================================================================\n",
      "Dep. Variable:        number_protests   R-squared:                       0.029\n",
      "Model:                            OLS   Adj. R-squared:                  0.027\n",
      "Method:                 Least Squares   F-statistic:                     16.64\n",
      "Date:                Wed, 02 Nov 2022   Prob (F-statistic):           4.76e-30\n",
      "Time:                        01:57:15   Log-Likelihood:                -19102.\n",
      "No. Observations:                5536   AIC:                         3.823e+04\n",
      "Df Residuals:                    5525   BIC:                         3.830e+04\n",
      "Df Model:                          10                                         \n",
      "Covariance Type:            nonrobust                                         \n",
      "===========================================================================================\n",
      "                              coef    std err          t      P>|t|      [0.025      0.975]\n",
      "-------------------------------------------------------------------------------------------\n",
      "Intercept                  12.2781      0.614     19.987      0.000      11.074      13.482\n",
      "Median_household_income    -0.0254      0.011     -2.267      0.023      -0.047      -0.003\n",
      "Population                  0.0026      0.001      3.711      0.000       0.001       0.004\n",
      "Poverty                    -0.1841      0.021     -8.880      0.000      -0.225      -0.143\n",
      "Black                       0.0289      0.011      2.738      0.006       0.008       0.050\n",
      "Unemployment                0.2347      0.057      4.101      0.000       0.123       0.347\n",
      "cases                       0.0002   3.48e-05      7.014      0.000       0.000       0.000\n",
      "deaths                     -0.0047      0.001     -5.520      0.000      -0.006      -0.003\n",
      "Hispanic                   -0.0084      0.015     -0.555      0.579      -0.038       0.021\n",
      "Black_binary               -7.1838      3.710     -1.936      0.053     -14.457       0.089\n",
      "Poverty:Black_binary        0.2593      0.137      1.888      0.059      -0.010       0.529\n",
      "==============================================================================\n",
      "Omnibus:                     2160.049   Durbin-Watson:                   0.101\n",
      "Prob(Omnibus):                  0.000   Jarque-Bera (JB):             7914.872\n",
      "Skew:                           1.973   Prob(JB):                         0.00\n",
      "Kurtosis:                       7.329   Cond. No.                     2.01e+05\n",
      "==============================================================================\n",
      "\n",
      "Warnings:\n",
      "[1] Standard Errors assume that the covariance matrix of the errors is correctly specified.\n",
      "[2] The condition number is large, 2.01e+05. This might indicate that there are\n",
      "strong multicollinearity or other numerical problems.\n"
     ]
    }
   ],
   "source": [
    "model9 = smo.OLS.from_formula('number_protests ~ Median_household_income + Population + Poverty \\\n",
    "                            + Black+ Unemployment + cases  + deaths + Hispanic + + Poverty*Black_binary', \n",
    "                                                      data = df)\n",
    "results9 = model9.fit()\n",
    "print(results9.summary())"
   ]
  },
  {
   "cell_type": "markdown",
   "metadata": {},
   "source": [
    "##  Event Count Regression"
   ]
  },
  {
   "cell_type": "code",
   "execution_count": 36,
   "metadata": {},
   "outputs": [],
   "source": [
    "import statsmodels as sm"
   ]
  },
  {
   "cell_type": "code",
   "execution_count": 37,
   "metadata": {},
   "outputs": [
    {
     "name": "stdout",
     "output_type": "stream",
     "text": [
      "Optimization terminated successfully.\n",
      "         Current function value: 4.331326\n",
      "         Iterations 4\n",
      "                          Poisson Regression Results                          \n",
      "==============================================================================\n",
      "Dep. Variable:        number_protests   No. Observations:                 6367\n",
      "Model:                        Poisson   Df Residuals:                     6365\n",
      "Method:                           MLE   Df Model:                            1\n",
      "Date:                Wed, 02 Nov 2022   Pseudo R-squ.:               2.121e-06\n",
      "Time:                        00:56:01   Log-Likelihood:                -27578.\n",
      "converged:                       True   LL-Null:                       -27578.\n",
      "Covariance Type:            nonrobust   LLR p-value:                    0.7323\n",
      "===========================================================================================\n",
      "                              coef    std err          z      P>|z|      [0.025      0.975]\n",
      "-------------------------------------------------------------------------------------------\n",
      "Intercept                   2.3453      0.017    136.875      0.000       2.312       2.379\n",
      "Median_household_income    -0.0001      0.000     -0.342      0.732      -0.001       0.001\n",
      "===========================================================================================\n"
     ]
    }
   ],
   "source": [
    "model1 = sm.discrete.discrete_model.Poisson.from_formula('number_protests ~ Median_household_income', \n",
    "                                                      data = df)\n",
    "results1 = model1.fit()\n",
    "print(results1.summary())"
   ]
  },
  {
   "cell_type": "code",
   "execution_count": 38,
   "metadata": {},
   "outputs": [
    {
     "name": "stdout",
     "output_type": "stream",
     "text": [
      "Optimization terminated successfully.\n",
      "         Current function value: 4.315894\n",
      "         Iterations 5\n",
      "                          Poisson Regression Results                          \n",
      "==============================================================================\n",
      "Dep. Variable:        number_protests   No. Observations:                 6340\n",
      "Model:                        Poisson   Df Residuals:                     6337\n",
      "Method:                           MLE   Df Model:                            2\n",
      "Date:                Wed, 02 Nov 2022   Pseudo R-squ.:                0.001797\n",
      "Time:                        00:57:19   Log-Likelihood:                -27363.\n",
      "converged:                       True   LL-Null:                       -27412.\n",
      "Covariance Type:            nonrobust   LLR p-value:                 4.011e-22\n",
      "===========================================================================================\n",
      "                              coef    std err          z      P>|z|      [0.025      0.975]\n",
      "-------------------------------------------------------------------------------------------\n",
      "Intercept                   2.3968      0.018    135.127      0.000       2.362       2.432\n",
      "Median_household_income    -0.0018      0.000     -4.429      0.000      -0.003      -0.001\n",
      "Population                  0.0003   2.48e-05     10.102      0.000       0.000       0.000\n",
      "===========================================================================================\n"
     ]
    }
   ],
   "source": [
    "model2 = sm.discrete.discrete_model.Poisson.from_formula('number_protests ~ Median_household_income + Population', \n",
    "                                                      data = df)\n",
    "results2 = model2.fit()\n",
    "print(results2.summary())"
   ]
  },
  {
   "cell_type": "code",
   "execution_count": 40,
   "metadata": {},
   "outputs": [
    {
     "name": "stdout",
     "output_type": "stream",
     "text": [
      "Optimization terminated successfully.\n",
      "         Current function value: 4.225090\n",
      "         Iterations 5\n",
      "                          Poisson Regression Results                          \n",
      "==============================================================================\n",
      "Dep. Variable:        number_protests   No. Observations:                 5536\n",
      "Model:                        Poisson   Df Residuals:                     5532\n",
      "Method:                           MLE   Df Model:                            3\n",
      "Date:                Wed, 02 Nov 2022   Pseudo R-squ.:                0.007815\n",
      "Time:                        00:59:18   Log-Likelihood:                -23390.\n",
      "converged:                       True   LL-Null:                       -23574.\n",
      "Covariance Type:            nonrobust   LLR p-value:                 1.479e-79\n",
      "===========================================================================================\n",
      "                              coef    std err          z      P>|z|      [0.025      0.975]\n",
      "-------------------------------------------------------------------------------------------\n",
      "Intercept                   2.5979      0.023    111.734      0.000       2.552       2.644\n",
      "Median_household_income    -0.0026      0.000     -5.635      0.000      -0.003      -0.002\n",
      "Population                  0.0003   2.64e-05     10.487      0.000       0.000       0.000\n",
      "Poverty                    -0.0106      0.001    -16.285      0.000      -0.012      -0.009\n",
      "===========================================================================================\n"
     ]
    }
   ],
   "source": [
    "model3 = sm.discrete.discrete_model.Poisson.from_formula('number_protests ~ Median_household_income + Population \\\n",
    "+ Poverty', \n",
    "                                                      data = df)\n",
    "results3 = model3.fit()\n",
    "print(results3.summary())"
   ]
  },
  {
   "cell_type": "code",
   "execution_count": 41,
   "metadata": {},
   "outputs": [
    {
     "name": "stdout",
     "output_type": "stream",
     "text": [
      "Optimization terminated successfully.\n",
      "         Current function value: 4.207950\n",
      "         Iterations 5\n",
      "                          Poisson Regression Results                          \n",
      "==============================================================================\n",
      "Dep. Variable:        number_protests   No. Observations:                 5536\n",
      "Model:                        Poisson   Df Residuals:                     5531\n",
      "Method:                           MLE   Df Model:                            4\n",
      "Date:                Wed, 02 Nov 2022   Pseudo R-squ.:                 0.01184\n",
      "Time:                        01:02:18   Log-Likelihood:                -23295.\n",
      "converged:                       True   LL-Null:                       -23574.\n",
      "Covariance Type:            nonrobust   LLR p-value:                1.666e-119\n",
      "===========================================================================================\n",
      "                              coef    std err          z      P>|z|      [0.025      0.975]\n",
      "-------------------------------------------------------------------------------------------\n",
      "Intercept                   2.6349      0.023    112.359      0.000       2.589       2.681\n",
      "Median_household_income    -0.0028      0.000     -6.095      0.000      -0.004      -0.002\n",
      "Population                  0.0003   2.64e-05     10.118      0.000       0.000       0.000\n",
      "Poverty                    -0.0149      0.001    -20.311      0.000      -0.016      -0.013\n",
      "Black                       0.0047      0.000     13.911      0.000       0.004       0.005\n",
      "===========================================================================================\n"
     ]
    }
   ],
   "source": [
    "model4 = sm.discrete.discrete_model.Poisson.from_formula('number_protests ~ Median_household_income + Population \\\n",
    "+ Poverty + Black', \n",
    "                                                      data = df)\n",
    "results4 = model4.fit()\n",
    "print(results4.summary())"
   ]
  },
  {
   "cell_type": "code",
   "execution_count": 42,
   "metadata": {},
   "outputs": [
    {
     "name": "stdout",
     "output_type": "stream",
     "text": [
      "Optimization terminated successfully.\n",
      "         Current function value: 4.199072\n",
      "         Iterations 5\n",
      "                          Poisson Regression Results                          \n",
      "==============================================================================\n",
      "Dep. Variable:        number_protests   No. Observations:                 5536\n",
      "Model:                        Poisson   Df Residuals:                     5530\n",
      "Method:                           MLE   Df Model:                            5\n",
      "Date:                Wed, 02 Nov 2022   Pseudo R-squ.:                 0.01393\n",
      "Time:                        01:03:50   Log-Likelihood:                -23246.\n",
      "converged:                       True   LL-Null:                       -23574.\n",
      "Covariance Type:            nonrobust   LLR p-value:                1.206e-139\n",
      "===========================================================================================\n",
      "                              coef    std err          z      P>|z|      [0.025      0.975]\n",
      "-------------------------------------------------------------------------------------------\n",
      "Intercept                   2.5739      0.024    106.088      0.000       2.526       2.621\n",
      "Median_household_income    -0.0027      0.000     -5.944      0.000      -0.004      -0.002\n",
      "Population                  0.0003   2.65e-05      9.952      0.000       0.000       0.000\n",
      "Poverty                    -0.0197      0.001    -22.380      0.000      -0.021      -0.018\n",
      "Black                       0.0038      0.000     10.738      0.000       0.003       0.004\n",
      "Unemployment                0.0225      0.002      9.967      0.000       0.018       0.027\n",
      "===========================================================================================\n"
     ]
    }
   ],
   "source": [
    "model5 = sm.discrete.discrete_model.Poisson.from_formula('number_protests ~ Median_household_income + Population \\\n",
    "+ Poverty + Black + Unemployment', \n",
    "                                                      data = df)\n",
    "results5 = model5.fit()\n",
    "print(results5.summary())"
   ]
  },
  {
   "cell_type": "code",
   "execution_count": 45,
   "metadata": {},
   "outputs": [
    {
     "name": "stdout",
     "output_type": "stream",
     "text": [
      "Optimization terminated successfully.\n",
      "         Current function value: 4.199071\n",
      "         Iterations 8\n",
      "                          Poisson Regression Results                          \n",
      "==============================================================================\n",
      "Dep. Variable:        number_protests   No. Observations:                 5536\n",
      "Model:                        Poisson   Df Residuals:                     5529\n",
      "Method:                           MLE   Df Model:                            6\n",
      "Date:                Wed, 02 Nov 2022   Pseudo R-squ.:                 0.01393\n",
      "Time:                        01:05:25   Log-Likelihood:                -23246.\n",
      "converged:                       True   LL-Null:                       -23574.\n",
      "Covariance Type:            nonrobust   LLR p-value:                1.448e-138\n",
      "===========================================================================================\n",
      "                              coef    std err          z      P>|z|      [0.025      0.975]\n",
      "-------------------------------------------------------------------------------------------\n",
      "Intercept                   2.5740      0.024    105.966      0.000       2.526       2.622\n",
      "Median_household_income    -0.0027      0.000     -5.944      0.000      -0.004      -0.002\n",
      "Population                  0.0003   2.65e-05      9.930      0.000       0.000       0.000\n",
      "Poverty                    -0.0197      0.001    -22.107      0.000      -0.021      -0.018\n",
      "Black                       0.0038      0.000     10.551      0.000       0.003       0.004\n",
      "Unemployment                0.0225      0.002      9.916      0.000       0.018       0.027\n",
      "deaths                  -1.974e-06   2.06e-05     -0.096      0.924   -4.24e-05    3.84e-05\n",
      "===========================================================================================\n"
     ]
    }
   ],
   "source": [
    "model6 = sm.discrete.discrete_model.Poisson.from_formula('number_protests ~ Median_household_income + Population \\\n",
    "+ Poverty + Black + Unemployment + deaths', \n",
    "                                                      data = df)\n",
    "results6 = model6.fit()\n",
    "print(results6.summary())"
   ]
  },
  {
   "cell_type": "code",
   "execution_count": 46,
   "metadata": {},
   "outputs": [
    {
     "name": "stdout",
     "output_type": "stream",
     "text": [
      "Optimization terminated successfully.\n",
      "         Current function value: 4.198364\n",
      "         Iterations 7\n",
      "                          Poisson Regression Results                          \n",
      "==============================================================================\n",
      "Dep. Variable:        number_protests   No. Observations:                 5536\n",
      "Model:                        Poisson   Df Residuals:                     5528\n",
      "Method:                           MLE   Df Model:                            7\n",
      "Date:                Wed, 02 Nov 2022   Pseudo R-squ.:                 0.01409\n",
      "Time:                        01:07:15   Log-Likelihood:                -23242.\n",
      "converged:                       True   LL-Null:                       -23574.\n",
      "Covariance Type:            nonrobust   LLR p-value:                3.254e-139\n",
      "===========================================================================================\n",
      "                              coef    std err          z      P>|z|      [0.025      0.975]\n",
      "-------------------------------------------------------------------------------------------\n",
      "Intercept                   2.5569      0.025    102.050      0.000       2.508       2.606\n",
      "Median_household_income    -0.0027      0.000     -5.941      0.000      -0.004      -0.002\n",
      "Population                  0.0003   2.65e-05      9.830      0.000       0.000       0.000\n",
      "Poverty                    -0.0197      0.001    -22.088      0.000      -0.021      -0.018\n",
      "Black                       0.0038      0.000     10.552      0.000       0.003       0.004\n",
      "Unemployment                0.0237      0.002     10.272      0.000       0.019       0.028\n",
      "deaths                   -1.09e-05    2.1e-05     -0.520      0.603    -5.2e-05    3.02e-05\n",
      "Hispanic                    0.0017      0.001      2.812      0.005       0.001       0.003\n",
      "===========================================================================================\n"
     ]
    }
   ],
   "source": [
    "model7 = sm.discrete.discrete_model.Poisson.from_formula('number_protests ~ Median_household_income + Population \\\n",
    "+ Poverty + Black + Unemployment + deaths + Hispanic', \n",
    "                                                      data = df)\n",
    "results7 = model7.fit()\n",
    "print(results7.summary())"
   ]
  },
  {
   "cell_type": "code",
   "execution_count": 50,
   "metadata": {},
   "outputs": [
    {
     "name": "stdout",
     "output_type": "stream",
     "text": [
      "Optimization terminated successfully.\n",
      "         Current function value: 4.196497\n",
      "         Iterations 8\n",
      "                          Poisson Regression Results                          \n",
      "==============================================================================\n",
      "Dep. Variable:        number_protests   No. Observations:                 5536\n",
      "Model:                        Poisson   Df Residuals:                     5526\n",
      "Method:                           MLE   Df Model:                            9\n",
      "Date:                Wed, 02 Nov 2022   Pseudo R-squ.:                 0.01453\n",
      "Time:                        01:56:57   Log-Likelihood:                -23232.\n",
      "converged:                       True   LL-Null:                       -23574.\n",
      "Covariance Type:            nonrobust   LLR p-value:                1.119e-141\n",
      "===========================================================================================\n",
      "                              coef    std err          z      P>|z|      [0.025      0.975]\n",
      "-------------------------------------------------------------------------------------------\n",
      "Intercept                   2.5608      0.025    101.917      0.000       2.512       2.610\n",
      "Median_household_income    -0.0027      0.000     -5.887      0.000      -0.004      -0.002\n",
      "Population                  0.0003   2.66e-05      9.938      0.000       0.000       0.000\n",
      "Poverty                    -0.0200      0.001    -22.304      0.000      -0.022      -0.018\n",
      "Black                       0.0044      0.000     10.139      0.000       0.004       0.005\n",
      "Unemployment                0.0231      0.002     10.015      0.000       0.019       0.028\n",
      "deaths                  -1.558e-05   2.12e-05     -0.735      0.462   -5.71e-05    2.59e-05\n",
      "Hispanic                    0.0016      0.001      2.655      0.008       0.000       0.003\n",
      "Black_binary               -0.6432      0.149     -4.316      0.000      -0.935      -0.351\n",
      "Poverty:Black_binary        0.0214      0.005      3.921      0.000       0.011       0.032\n",
      "===========================================================================================\n"
     ]
    }
   ],
   "source": [
    "model8 = sm.discrete.discrete_model.Poisson.from_formula('number_protests ~ Median_household_income + Population \\\n",
    "+ Poverty + Black + Unemployment + deaths + Hispanic + Poverty*Black_binary', \n",
    "                                                      data = df)\n",
    "results8 = model8.fit()\n",
    "print(results8.summary())"
   ]
  },
  {
   "cell_type": "code",
   "execution_count": null,
   "metadata": {},
   "outputs": [],
   "source": []
  }
 ],
 "metadata": {
  "kernelspec": {
   "display_name": "Python 3",
   "language": "python",
   "name": "python3"
  },
  "language_info": {
   "codemirror_mode": {
    "name": "ipython",
    "version": 3
   },
   "file_extension": ".py",
   "mimetype": "text/x-python",
   "name": "python",
   "nbconvert_exporter": "python",
   "pygments_lexer": "ipython3",
   "version": "3.8.3"
  }
 },
 "nbformat": 4,
 "nbformat_minor": 4
}
